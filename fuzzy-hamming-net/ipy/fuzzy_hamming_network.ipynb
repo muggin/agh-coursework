{
 "cells": [
  {
   "cell_type": "markdown",
   "metadata": {},
   "source": [
    "#Fuzzy Hamming Network\n",
    "***\n",
    "\n",
    "###Work Schedule:\n",
    "1. **Standard Hamming Network**\n",
    "  1. Implementation\n",
    "  2. Testing on binary data\n",
    "    \n",
    "2. **Fuzzy Hamming Network**\n",
    "  1. Implementation\n",
    "  2. Testing on binary data\n",
    "  3. Testing on real-valued data\n",
    "    \n",
    "3. **Comparison of Standard and Fuzzy Hamming Networks**\n",
    "  1. Testing on binary data\n",
    "    \n",
    "4. **Evaluation of Fuzzy Hamming Network**\n",
    "  1. Extensive testing on real-valued data\n"
   ]
  },
  {
   "cell_type": "markdown",
   "metadata": {
    "collapsed": true
   },
   "source": [
    "##Standard Hamming Network"
   ]
  },
  {
   "cell_type": "code",
   "execution_count": 1,
   "metadata": {
    "collapsed": false
   },
   "outputs": [
    {
     "data": {
      "text/plain": [
       "4"
      ]
     },
     "execution_count": 1,
     "metadata": {},
     "output_type": "execute_result"
    }
   ],
   "source": [
    "2 + 2"
   ]
  }
 ],
 "metadata": {
  "celltoolbar": "Raw Cell Format",
  "kernelspec": {
   "display_name": "Python 2",
   "language": "python",
   "name": "python2"
  },
  "language_info": {
   "codemirror_mode": {
    "name": "ipython",
    "version": 2
   },
   "file_extension": ".py",
   "mimetype": "text/x-python",
   "name": "python",
   "nbconvert_exporter": "python",
   "pygments_lexer": "ipython2",
   "version": "2.7.9"
  }
 },
 "nbformat": 4,
 "nbformat_minor": 0
}
